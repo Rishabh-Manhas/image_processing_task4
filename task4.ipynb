{
 "cells": [
  {
   "cell_type": "code",
   "execution_count": 1,
   "metadata": {},
   "outputs": [],
   "source": [
    "import cv2\n",
    "import numpy\n"
   ]
  },
  {
   "cell_type": "code",
   "execution_count": 2,
   "metadata": {},
   "outputs": [],
   "source": [
    "#TASK 4.1: Creating image using python code\n",
    "photo1=numpy.ones(((500,720,3)))\n",
    "photo2=numpy.ones(((500,720,3)))"
   ]
  },
  {
   "cell_type": "code",
   "execution_count": 3,
   "metadata": {},
   "outputs": [],
   "source": [
    "#creating photo 1\n",
    "for i in range(0,499):\n",
    "    for j in range(0,720):\n",
    "        for k in range(0,2):\n",
    "            if i in range(0,125):\n",
    "                photo1[i,j]=[255,0,0]\n",
    "            elif i in range(126,250):\n",
    "                \n",
    "                photo1[i,j]=[0,255,0]\n",
    "            elif i in range(250,376):\n",
    "                \n",
    "                photo1[i,j]=[0,0,255]\n",
    "            else:\n",
    "                photo1[i,j]=[0,0,0]\n",
    "\n",
    "                \n"
   ]
  },
  {
   "cell_type": "code",
   "execution_count": 4,
   "metadata": {},
   "outputs": [],
   "source": [
    "#creating photo 2\n",
    "for i in range(0,499):\n",
    "    for j in range(0,720):\n",
    "        for k in range(0,2):\n",
    "            if j in range(0,179):\n",
    "                photo2[i,j]=[0,255,0]\n",
    "            elif j in range(180,359):\n",
    "                \n",
    "                photo2[i,j]=[255,0,0]\n",
    "            elif j in range(360,539):\n",
    "                \n",
    "                photo2[i,j]=[0,0,0]\n",
    "            else:\n",
    "                photo2[i,j]=[0,0,255]"
   ]
  },
  {
   "cell_type": "code",
   "execution_count": 5,
   "metadata": {},
   "outputs": [],
   "source": [
    "#displaying photo1\n",
    "cv2.imshow(\"image1\",photo1)\n",
    "cv2.waitKey()\n",
    "cv2.destroyAllWindows()\n",
    "\n"
   ]
  },
  {
   "cell_type": "code",
   "execution_count": 6,
   "metadata": {},
   "outputs": [],
   "source": [
    "#displaying photo2\n",
    "cv2.imshow(\"image2\",photo2)\n",
    "cv2.waitKey()\n",
    "cv2.destroyAllWindows()"
   ]
  },
  {
   "cell_type": "code",
   "execution_count": 7,
   "metadata": {},
   "outputs": [
    {
     "data": {
      "text/plain": [
       "True"
      ]
     },
     "execution_count": 7,
     "metadata": {},
     "output_type": "execute_result"
    }
   ],
   "source": [
    "#saving photo1 and photo2\n",
    "cv2.imwrite(\"image1.jpg\",photo1)\n",
    "cv2.imwrite(\"image2.jpg\",photo2)"
   ]
  },
  {
   "cell_type": "code",
   "execution_count": 8,
   "metadata": {},
   "outputs": [],
   "source": [
    "#TASK 4.2: Take 2 images crop some part of both the images and swap it.\n",
    "#cropping both images\n",
    "crop1 = photo1[125:375, 180:540,]\n",
    "crop2 = photo2[125:375, 180:540,]"
   ]
  },
  {
   "cell_type": "code",
   "execution_count": 9,
   "metadata": {},
   "outputs": [],
   "source": [
    "#showing crop1 image\n",
    "cv2.imshow(\"crop1\",crop1)\n",
    "cv2.waitKey()\n",
    "cv2.destroyAllWindows()"
   ]
  },
  {
   "cell_type": "code",
   "execution_count": 10,
   "metadata": {},
   "outputs": [],
   "source": [
    "#showing crop2 image\n",
    "cv2.imshow(\"crop2\",crop2)\n",
    "cv2.waitKey()\n",
    "cv2.destroyAllWindows()"
   ]
  },
  {
   "cell_type": "code",
   "execution_count": 11,
   "metadata": {},
   "outputs": [],
   "source": [
    "#swapping the cropped images\n",
    "crop1=numpy.copy(crop1)\n",
    "crop2=numpy.copy(crop2)\n",
    "photo1[125:375, 180:540,] = crop2\n",
    "photo2[125:375, 180:540,] = crop1\n",
    "\n"
   ]
  },
  {
   "cell_type": "code",
   "execution_count": 12,
   "metadata": {},
   "outputs": [],
   "source": [
    "#showing images after cropping\n",
    "cv2.imshow(\"image1\",photo1)\n",
    "cv2.waitKey()\n",
    "cv2.destroyAllWindows()\n"
   ]
  },
  {
   "cell_type": "code",
   "execution_count": 13,
   "metadata": {},
   "outputs": [],
   "source": [
    "cv2.imshow(\"image2\",photo2)\n",
    "cv2.waitKey()\n",
    "cv2.destroyAllWindows()"
   ]
  },
  {
   "cell_type": "code",
   "execution_count": 14,
   "metadata": {},
   "outputs": [],
   "source": [
    "#TASK 4.3: Making a collage from two images\n",
    "#combining two images\n",
    "collage=numpy.hstack((crop1,crop2))"
   ]
  },
  {
   "cell_type": "code",
   "execution_count": 15,
   "metadata": {},
   "outputs": [],
   "source": [
    "#showing collage\n",
    "cv2.imshow(\"collage\",collage)\n",
    "cv2.waitKey()\n",
    "cv2.destroyAllWindows()"
   ]
  },
  {
   "cell_type": "code",
   "execution_count": null,
   "metadata": {},
   "outputs": [],
   "source": []
  },
  {
   "cell_type": "code",
   "execution_count": null,
   "metadata": {},
   "outputs": [],
   "source": [
    "\n"
   ]
  },
  {
   "cell_type": "code",
   "execution_count": null,
   "metadata": {},
   "outputs": [],
   "source": []
  },
  {
   "cell_type": "code",
   "execution_count": null,
   "metadata": {},
   "outputs": [],
   "source": []
  },
  {
   "cell_type": "code",
   "execution_count": null,
   "metadata": {},
   "outputs": [],
   "source": []
  }
 ],
 "metadata": {
  "kernelspec": {
   "display_name": "Python 3",
   "language": "python",
   "name": "python3"
  },
  "language_info": {
   "codemirror_mode": {
    "name": "ipython",
    "version": 3
   },
   "file_extension": ".py",
   "mimetype": "text/x-python",
   "name": "python",
   "nbconvert_exporter": "python",
   "pygments_lexer": "ipython3",
   "version": "3.7.4"
  }
 },
 "nbformat": 4,
 "nbformat_minor": 2
}
